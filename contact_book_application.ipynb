{
  "nbformat": 4,
  "nbformat_minor": 0,
  "metadata": {
    "colab": {
      "provenance": [],
      "authorship_tag": "ABX9TyOLTye6htimrlNhJhKWa3y+",
      "include_colab_link": true
    },
    "kernelspec": {
      "name": "python3",
      "display_name": "Python 3"
    },
    "language_info": {
      "name": "python"
    }
  },
  "cells": [
    {
      "cell_type": "markdown",
      "metadata": {
        "id": "view-in-github",
        "colab_type": "text"
      },
      "source": [
        "<a href=\"https://colab.research.google.com/github/manvithreddy250/Contact-Book-Application/blob/main/contact_book_application.ipynb\" target=\"_parent\"><img src=\"https://colab.research.google.com/assets/colab-badge.svg\" alt=\"Open In Colab\"/></a>"
      ]
    },
    {
      "cell_type": "code",
      "execution_count": null,
      "metadata": {
        "colab": {
          "base_uri": "https://localhost:8080/"
        },
        "id": "nPJpFD-RC2Mu",
        "outputId": "ba67c7a5-117e-4070-ac9f-5c8d5b6052d0"
      },
      "outputs": [
        {
          "metadata": {
            "tags": null
          },
          "name": "stdout",
          "output_type": "stream",
          "text": [
            "\n",
            "Contact Book Application\n",
            "1. Add a contact\n",
            "2. View all contacts\n",
            "3. Search for a contact\n",
            "4. Delete a contact\n",
            "5. Save contacts to file\n",
            "6. Load contacts from file\n",
            "7. Exit\n",
            "Contact sani added.\n",
            "\n",
            "Contact Book Application\n",
            "1. Add a contact\n",
            "2. View all contacts\n",
            "3. Search for a contact\n",
            "4. Delete a contact\n",
            "5. Save contacts to file\n",
            "6. Load contacts from file\n",
            "7. Exit\n"
          ]
        }
      ],
      "source": [
        "import os\n",
        "\n",
        "# Function to display the menu\n",
        "def display_menu():\n",
        "    print(\"\\nContact Book Application\")\n",
        "    print(\"1. Add a contact\")\n",
        "    print(\"2. View all contacts\")\n",
        "    print(\"3. Search for a contact\")\n",
        "    print(\"4. Delete a contact\")\n",
        "    print(\"5. Save contacts to file\")\n",
        "    print(\"6. Load contacts from file\")\n",
        "    print(\"7. Exit\")\n",
        "\n",
        "# Function to add a contact\n",
        "def add_contact(contacts):\n",
        "    name = input(\"Enter contact name: \")\n",
        "    phone = input(\"Enter contact phone number: \")\n",
        "    email = input(\"Enter contact email: \")\n",
        "    contacts.append({\"name\": name, \"phone\": phone, \"email\": email})\n",
        "    print(f\"Contact {name} added.\")\n",
        "\n",
        "# Function to view all contacts\n",
        "def view_contacts(contacts):\n",
        "    for idx, contact in enumerate(contacts):\n",
        "        print(f\"{idx + 1}. Name: {contact['name']}, Phone: {contact['phone']}, Email: {contact['email']}\")\n",
        "\n",
        "# Function to search for a contact\n",
        "def search_contact(contacts):\n",
        "    search_name = input(\"Enter the name to search for: \")\n",
        "    found_contacts = [contact for contact in contacts if search_name.lower() in contact['name'].lower()]\n",
        "    if found_contacts:\n",
        "        for contact in found_contacts:\n",
        "            print(f\"Name: {contact['name']}, Phone: {contact['phone']}, Email: {contact['email']}\")\n",
        "    else:\n",
        "        print(\"No contact found with that name.\")\n",
        "\n",
        "# Function to delete a contact\n",
        "def delete_contact(contacts):\n",
        "    view_contacts(contacts)\n",
        "    contact_no = int(input(\"Enter the contact number to delete: \"))\n",
        "    if 0 < contact_no <= len(contacts):\n",
        "        removed_contact = contacts.pop(contact_no - 1)\n",
        "        print(f\"Contact {removed_contact['name']} deleted.\")\n",
        "    else:\n",
        "        print(\"Invalid contact number\")\n",
        "\n",
        "# Function to save contacts to a file\n",
        "def save_contacts(contacts, filename):\n",
        "    with open(filename, 'w') as file:\n",
        "        for contact in contacts:\n",
        "            file.write(f\"{contact['name']},{contact['phone']},{contact['email']}\\n\")\n",
        "    print(\"Contacts saved to file.\")\n",
        "\n",
        "# Function to load contacts from a file\n",
        "def load_contacts(filename):\n",
        "    contacts = []\n",
        "    if os.path.exists(filename):\n",
        "        with open(filename, 'r') as file:\n",
        "            for line in file:\n",
        "                name, phone, email = line.strip().split(',')\n",
        "                contacts.append({\"name\": name, \"phone\": phone, \"email\": email})\n",
        "    print(\"Contacts loaded from file.\")\n",
        "    return contacts\n",
        "\n",
        "def main():\n",
        "    contacts = []\n",
        "    filename = \"contacts.txt\"\n",
        "\n",
        "    while True:\n",
        "        display_menu()\n",
        "        choice = input(\"Enter your choice: \")\n",
        "\n",
        "        if choice == '1':\n",
        "            add_contact(contacts)\n",
        "        elif choice == '2':\n",
        "            view_contacts(contacts)\n",
        "        elif choice == '3':\n",
        "            search_contact(contacts)\n",
        "        elif choice == '4':\n",
        "            delete_contact(contacts)\n",
        "        elif choice == '5':\n",
        "            save_contacts(contacts, filename)\n",
        "        elif choice == '6':\n",
        "            contacts = load_contacts(filename)\n",
        "        elif choice == '7':\n",
        "            break\n",
        "        else:\n",
        "            print(\"Invalid choice, please try again\")\n",
        "\n",
        "if __name__ == \"__main__\":\n",
        "    main()"
      ]
    },
    {
      "cell_type": "code",
      "source": [],
      "metadata": {
        "id": "xhm8v0tNC3nZ"
      },
      "execution_count": null,
      "outputs": []
    }
  ]
}